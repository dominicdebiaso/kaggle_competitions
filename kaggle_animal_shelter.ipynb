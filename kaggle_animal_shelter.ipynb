{
 "cells": [
  {
   "cell_type": "code",
   "execution_count": 60,
   "metadata": {
    "collapsed": true
   },
   "outputs": [],
   "source": [
    "import pandas as pd\n",
    "import numpy as np\n",
    "import matplotlib.pyplot as plt\n",
    "from sklearn.preprocessing import LabelEncoder\n",
    "from sklearn.ensemble import RandomForestClassifier\n",
    "\n",
    "%matplotlib inline"
   ]
  },
  {
   "cell_type": "code",
   "execution_count": 61,
   "metadata": {
    "collapsed": true
   },
   "outputs": [],
   "source": [
    "df_train = pd.read_csv('/Users/dominicdebiaso/Development/datasets/kaggle_animal_train.csv')\n",
    "df_test = pd.read_csv('/Users/dominicdebiaso/Development/datasets/kaggle_animal_test.csv')"
   ]
  },
  {
   "cell_type": "markdown",
   "metadata": {},
   "source": [
    "## EDA"
   ]
  },
  {
   "cell_type": "code",
   "execution_count": 62,
   "metadata": {
    "collapsed": false
   },
   "outputs": [
    {
     "data": {
      "text/plain": [
       "AnimalID          object\n",
       "Name              object\n",
       "DateTime          object\n",
       "OutcomeType       object\n",
       "OutcomeSubtype    object\n",
       "AnimalType        object\n",
       "SexuponOutcome    object\n",
       "AgeuponOutcome    object\n",
       "Breed             object\n",
       "Color             object\n",
       "dtype: object"
      ]
     },
     "execution_count": 62,
     "metadata": {},
     "output_type": "execute_result"
    }
   ],
   "source": [
    "df_train.dtypes"
   ]
  },
  {
   "cell_type": "code",
   "execution_count": 63,
   "metadata": {
    "collapsed": false
   },
   "outputs": [],
   "source": [
    "df_full = pd.concat((df_train, df_test))\n",
    "df_full.columns = df_full.columns.str.strip()\n",
    "df_full.drop(['AnimalID', 'ID'], axis=1, inplace=True)"
   ]
  },
  {
   "cell_type": "code",
   "execution_count": 64,
   "metadata": {
    "collapsed": false
   },
   "outputs": [
    {
     "data": {
      "text/plain": [
       "<matplotlib.axes._subplots.AxesSubplot at 0x10ecfddd0>"
      ]
     },
     "execution_count": 64,
     "metadata": {},
     "output_type": "execute_result"
    },
    {
     "data": {
      "image/png": "[encoded data removed]",
      "text/plain": [
       "<matplotlib.figure.Figure at 0x119443f10>"
      ]
     },
     "metadata": {},
     "output_type": "display_data"
    }
   ],
   "source": [
    "df_full['AnimalType'].value_counts(dropna=False).plot(kind='bar')"
   ]
  },
  {
   "cell_type": "code",
   "execution_count": 65,
   "metadata": {
    "collapsed": false
   },
   "outputs": [
    {
     "data": {
      "text/plain": [
       "<matplotlib.axes._subplots.AxesSubplot at 0x10ebf2890>"
      ]
     },
     "execution_count": 65,
     "metadata": {},
     "output_type": "execute_result"
    },
    {
     "data": {
      "image/png": "[encoded data removed]",
      "text/plain": [
       "<matplotlib.figure.Figure at 0x108f5c390>"
      ]
     },
     "metadata": {},
     "output_type": "display_data"
    }
   ],
   "source": [
    "df_full['SexuponOutcome'].value_counts(dropna=False).plot(kind='bar')"
   ]
  },
  {
   "cell_type": "markdown",
   "metadata": {},
   "source": [
    "## FE"
   ]
  },
  {
   "cell_type": "code",
   "execution_count": 66,
   "metadata": {
    "collapsed": false
   },
   "outputs": [],
   "source": [
    "def feature_engineering(df):\n",
    "    # Name vs no name\n",
    "    df['HasName'] = np.where(df['Name'].notnull(), 1, 0)\n",
    "\n",
    "    # Is animal a mix\n",
    "    df['isMix'] = np.where(df['Breed'].str.contains('Mix', case=False), 1, 0)\n",
    "\n",
    "    # Simplify colors by taking first listed\n",
    "    df['SimpleColor'] = df['Color'].str.extract('(\\w+)', expand=False)\n",
    "\n",
    "    # Is animal fixed\n",
    "    df['Fixed'] = np.where(df['SexuponOutcome'].str.contains('Neutered|Spayed', case=False), 1, 0)\n",
    "\n",
    "    # Sex\n",
    "    df.loc[df['SexuponOutcome'].str.contains('Male', na=False), 'isMale'] = 1\n",
    "    df.loc[df['SexuponOutcome'].str.contains('Female', na=False), 'isFemale'] = 1\n",
    "\n",
    "    # Age in days\n",
    "    df['AgeuponOutcomeNum'] = df['AgeuponOutcome'].str.extract('(\\d+)', expand=False).astype('float')\n",
    "    df.loc[df['AgeuponOutcome'].str.contains('week', na=False), 'AgeinDays'] = df['AgeuponOutcomeNum'] * 7\n",
    "    df.loc[df['AgeuponOutcome'].str.contains('month', na=False), 'AgeinDays'] = df['AgeuponOutcomeNum'] * 30\n",
    "    df.loc[df['AgeuponOutcome'].str.contains('year', na=False), 'AgeinDays'] = df['AgeuponOutcomeNum'] * 365\n",
    "\n",
    "    # Datetime of outcome\n",
    "    df['DateTime'] = pd.to_datetime(df['DateTime'])\n",
    "    df['OutcomeYear'] = df[['DateTime']].set_index('DateTime').index.year\n",
    "    df['OutcomeMonth'] = df[['DateTime']].set_index('DateTime').index.month\n",
    "    df['OutcomeHour'] = df[['DateTime']].set_index('DateTime').index.hour\n",
    "    df.loc[(df['OutcomeHour'] >= 5) & (df['OutcomeHour'] <= 8), 'OutcomeTimeofDay'] = 'early morning'\n",
    "    df.loc[(df['OutcomeHour'] >= 9) & (df['OutcomeHour'] <= 12), 'OutcomeTimeofDay'] = 'morning'\n",
    "    df.loc[(df['OutcomeHour'] >= 13) & (df['OutcomeHour'] <= 17), 'OutcomeTimeofDay'] = 'afternoon'\n",
    "    df.loc[(df['OutcomeHour'] >= 18) & (df['OutcomeHour'] <= 20), 'OutcomeTimeofDay'] = 'evening'\n",
    "    df.loc[(df['OutcomeHour'] >= 21) | \n",
    "           ((df['OutcomeHour'] >= 1) & (df['OutcomeHour'] <= 4)), 'OutcomeTimeofDay'] = 'night'\n",
    "    \n",
    "    # Drop old columns and ones not used in modeul building\n",
    "    df.drop(['AnimalID', 'ID', 'OutcomeSubtype', 'Name', 'Breed', 'Color', 'SexuponOutcome', 'AgeuponOutcome', \n",
    "             'AgeuponOutcomeNum', 'DateTime'], axis=1, inplace=True, errors='ignore')\n",
    "    return df"
   ]
  },
  {
   "cell_type": "markdown",
   "metadata": {},
   "source": [
    "## ML"
   ]
  },
  {
   "cell_type": "code",
   "execution_count": 67,
   "metadata": {
    "collapsed": true
   },
   "outputs": [],
   "source": [
    "def feature_transformation(df):\n",
    "    le = LabelEncoder()\n",
    "    for i in df.columns:\n",
    "        df[i] = le.fit_transform(df[i])\n",
    "    return df"
   ]
  },
  {
   "cell_type": "code",
   "execution_count": 68,
   "metadata": {
    "collapsed": false
   },
   "outputs": [
    {
     "name": "stdout",
     "output_type": "stream",
     "text": [
      "(26729, 12)\n",
      "(26729,)\n",
      "(11456, 12)\n"
     ]
    }
   ],
   "source": [
    "# Define X and y\n",
    "train = feature_engineering(df_train)\n",
    "test = feature_engineering(df_test)\n",
    "\n",
    "train_dummy = feature_transformation(train)\n",
    "test_dummy = feature_transformation(df_test)\n",
    "\n",
    "X_train = train_dummy.drop('OutcomeType', axis=1)\n",
    "print(X_train.shape)\n",
    "y_train = train_dummy['OutcomeType']\n",
    "print(y_train.shape)\n",
    "\n",
    "X_test = test_dummy\n",
    "print(X_test.shape)"
   ]
  },
  {
   "cell_type": "code",
   "execution_count": 69,
   "metadata": {
    "collapsed": false
   },
   "outputs": [
    {
     "data": {
      "text/plain": [
       "RandomForestClassifier(bootstrap=True, class_weight=None, criterion='gini',\n",
       "            max_depth=None, max_features='auto', max_leaf_nodes=None,\n",
       "            min_samples_leaf=1, min_samples_split=2,\n",
       "            min_weight_fraction_leaf=0.0, n_estimators=200, n_jobs=1,\n",
       "            oob_score=False, random_state=None, verbose=0,\n",
       "            warm_start=False)"
      ]
     },
     "execution_count": 69,
     "metadata": {},
     "output_type": "execute_result"
    }
   ],
   "source": [
    "# Random Forest model\n",
    "clf_tree = RandomForestClassifier(n_estimators=200)\n",
    "clf_tree.fit(X_train, y_train)"
   ]
  },
  {
   "cell_type": "code",
   "execution_count": 70,
   "metadata": {
    "collapsed": false
   },
   "outputs": [],
   "source": [
    "df = pd.DataFrame(clf_tree.predict_proba(X_test), columns=\n",
    "                 ['Adoption', 'Died', 'Euthanasia', 'Return_to_owner', 'Transfer'])\n",
    "df.insert(0, 'ID', [i+1 for i in range(len(df))])"
   ]
  },
  {
   "cell_type": "code",
   "execution_count": 71,
   "metadata": {
    "collapsed": true
   },
   "outputs": [],
   "source": [
    "df.to_csv('/Users/dominicdebiaso/Desktop/kaggle_animal_shelter.csv', index=False)"
   ]
  },
  {
   "cell_type": "code",
   "execution_count": null,
   "metadata": {
    "collapsed": true
   },
   "outputs": [],
   "source": []
  }
 ],
 "metadata": {
  "kernelspec": {
   "display_name": "Python 2",
   "language": "python",
   "name": "python2"
  },
  "language_info": {
   "codemirror_mode": {
    "name": "ipython",
    "version": 2
   },
   "file_extension": ".py",
   "mimetype": "text/x-python",
   "name": "python",
   "nbconvert_exporter": "python",
   "pygments_lexer": "ipython2",
   "version": "2.7.11"
  }
 },
 "nbformat": 4,
 "nbformat_minor": 0
}
