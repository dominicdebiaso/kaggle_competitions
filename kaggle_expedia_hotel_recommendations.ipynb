{
 "cells": [
  {
   "cell_type": "code",
   "execution_count": null,
   "metadata": {
    "collapsed": false
   },
   "outputs": [],
   "source": [
    "import pandas as pd\n",
    "import numpy as np\n",
    "from sklearn.preprocessing import StandardScaler\n",
    "import xgboost as xgb"
   ]
  },
  {
   "cell_type": "code",
   "execution_count": null,
   "metadata": {
    "collapsed": true
   },
   "outputs": [],
   "source": [
    "df_train = pd.read_csv('/Users/dominicdebiaso/Development/datasets/kaggle_expedia_train.csv')\n",
    "df_test = pd.read_csv('/Users/dominicdebiaso/Development/datasets/kaggle_expedia_test.csv', index_col='id')"
   ]
  },
  {
   "cell_type": "markdown",
   "metadata": {},
   "source": [
    "### Data Processing"
   ]
  },
  {
   "cell_type": "code",
   "execution_count": null,
   "metadata": {
    "collapsed": false
   },
   "outputs": [],
   "source": [
    "df_train.head()"
   ]
  },
  {
   "cell_type": "code",
   "execution_count": null,
   "metadata": {
    "collapsed": false
   },
   "outputs": [],
   "source": [
    "# Missing values \n",
    "df_train.isnull().sum()"
   ]
  },
  {
   "cell_type": "code",
   "execution_count": null,
   "metadata": {
    "collapsed": false,
    "scrolled": false
   },
   "outputs": [],
   "source": [
    "df_test.isnull().sum()"
   ]
  },
  {
   "cell_type": "code",
   "execution_count": null,
   "metadata": {
    "collapsed": false
   },
   "outputs": [],
   "source": [
    "# Difference between data sets\n",
    "print(list(set(df_train.columns) - set(df_test.columns)))"
   ]
  },
  {
   "cell_type": "code",
   "execution_count": null,
   "metadata": {
    "collapsed": false
   },
   "outputs": [],
   "source": [
    "## Clean up columns\n",
    "train = df_train.dropna(axis=1)\n",
    "train = train.drop(['cnt', 'is_booking', 'user_id'], axis=1)\n",
    "train = train.select_dtypes(include=[np.number])\n",
    "\n",
    "test = df_test.dropna(axis=1)\n",
    "test = test.drop(['user_id'], axis=1)\n",
    "test = test.select_dtypes(include=[np.number])\n",
    "\n",
    "## Split data into X and y\n",
    "X_train = train.iloc[:,:-1]\n",
    "X_test = test\n",
    "y_train = train.iloc[:,-1]\n",
    "print(X_train.shape)\n",
    "print(X_test.shape)\n",
    "print(y_train.shape)\n",
    "\n",
    "scaler = StandardScaler()\n",
    "X_train = scaler.fit_transform(X_train)\n",
    "X_test = scaler.transform(X_test)"
   ]
  },
  {
   "cell_type": "markdown",
   "metadata": {},
   "source": [
    "### Model Development"
   ]
  },
  {
   "cell_type": "code",
   "execution_count": null,
   "metadata": {
    "collapsed": true
   },
   "outputs": [],
   "source": [
    "dtrain = xgb.DMatrix(X_train, y_train)\n",
    "dtest = xgb.DMatrix(X_test)\n",
    "\n",
    "param = {\n",
    "    'eval_metric':'map@5', #mean average precision for set of queries with 5 events\n",
    "                           #ensure that all classes are recognized \n",
    "    'objective':'multi:softprob', #softprob gives the matrix with prob value of each class trying to predict\n",
    "                                  #softmax gives the class with the max prob as output\n",
    "    'num_class':100\n",
    "}\n",
    "xgb_cv = xgb.cv(param, dtrain, num_boost_round=1000, nfold=5, metrics=['mae@5'], early_stopping_rounds=100)\n",
    "best_nrounds = xgb_cv.shape[0]\n",
    "\n",
    "bst = xgb.train(param, dtrain, num_boost_round=best_nrounds)\n",
    "preds = bst.predict(dtest)\n",
    "\n",
    "df_xgb = pd.DataFrame(preds, index=X_test.index, columns=['hotel_cluster'])\n",
    "# df_xgb.to_csv('/Users/dominicdebiaso/Desktop/kaggle_expedia_xgb.csv')"
   ]
  }
 ],
 "metadata": {
  "kernelspec": {
   "display_name": "Python 2",
   "language": "python",
   "name": "python2"
  },
  "language_info": {
   "codemirror_mode": {
    "name": "ipython",
    "version": 2
   },
   "file_extension": ".py",
   "mimetype": "text/x-python",
   "name": "python",
   "nbconvert_exporter": "python",
   "pygments_lexer": "ipython2",
   "version": "2.7.11"
  }
 },
 "nbformat": 4,
 "nbformat_minor": 1
}
