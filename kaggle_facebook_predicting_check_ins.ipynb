{
 "cells": [
  {
   "cell_type": "code",
   "execution_count": 1,
   "metadata": {
    "collapsed": true
   },
   "outputs": [],
   "source": [
    "import pandas as pd\n",
    "import numpy as np\n",
    "from sklearn.neighbors import KNeighborsClassifier\n",
    "from sklearn.model_selection import GridSearchCV"
   ]
  },
  {
   "cell_type": "code",
   "execution_count": 2,
   "metadata": {
    "collapsed": true
   },
   "outputs": [],
   "source": [
    "df_train = pd.read_csv('/Users/dominicdebiaso/Development/datasets/kaggle_fb_checkin_train.csv', index_col='row_id')\n",
    "df_test = pd.read_csv('/Users/dominicdebiaso/Development/datasets/kaggle_fb_checkin_test.csv', index_col='row_id')"
   ]
  },
  {
   "cell_type": "markdown",
   "metadata": {},
   "source": [
    "### Data Munging"
   ]
  },
  {
   "cell_type": "code",
   "execution_count": 3,
   "metadata": {
    "collapsed": false
   },
   "outputs": [],
   "source": [
    "# Feature engineering using 'time' variable\n",
    "def extract_time(df):\n",
    "    df['time'] = pd.to_datetime(df_train['time'], unit='m')\n",
    "    df['minute'] = df['time'].dt.minute\n",
    "    df['hour'] = df['time'].dt.hour\n",
    "    df['dayofyear'] = df['time'].dt.dayofyear\n",
    "    df['weekofyear'] = df['time'].dt.weekofyear\n",
    "    df['month'] = df['time'].dt.month\n",
    "    df['year'] = df['time'].dt.year\n",
    "    return df\n",
    "\n",
    "train = extract_time(df_train)\n",
    "test = extract_time(df_test)"
   ]
  },
  {
   "cell_type": "code",
   "execution_count": 4,
   "metadata": {
    "collapsed": false
   },
   "outputs": [
    {
     "name": "stdout",
     "output_type": "stream",
     "text": [
      "(29118021, 10)\n",
      "(8607230, 10)\n",
      "(29118021,)\n"
     ]
    }
   ],
   "source": [
    "# Split date into X and y\n",
    "X_train = train.drop('place_id', 1)\n",
    "X_test = test\n",
    "y_train = train.place_id\n",
    "\n",
    "print(X_train.shape)\n",
    "print(X_test.shape)\n",
    "print(y_train.shape)"
   ]
  },
  {
   "cell_type": "markdown",
   "metadata": {},
   "source": [
    "### Classification"
   ]
  },
  {
   "cell_type": "code",
   "execution_count": 6,
   "metadata": {
    "collapsed": false
   },
   "outputs": [],
   "source": [
    "# Initialize and fit model\n",
    "knn = KNeighborsClassifier()\n",
    "param_grid = {\n",
    "    'n_neighbors':range(5,50,10),\n",
    "    'leaf_size':range(10,80,20),\n",
    "    'weights':['uniform', 'distance'],\n",
    "    'metric':['euclidean', 'manhatten', 'chebyshev', 'minkowski']\n",
    "}\n",
    "knn_grid = GridSearchCV(knn, param_grid, cv=5, scoring='average_precision')\n",
    "%time knn_grid.fit(X_train, y_train)\n",
    "print(knn_grid.best_score_)\n",
    "print(knn_grid.best_params_)"
   ]
  },
  {
   "cell_type": "code",
   "execution_count": null,
   "metadata": {
    "collapsed": true
   },
   "outputs": [],
   "source": [
    "# Predict\n",
    "y_pred_proba = knn_grid.predict_proba(X_test)\n",
    "df_knn = pd.DataFrame(y_pred, index=df_train.index, columns='place_id')\n",
    "# df_knn.to_csv('/Users/dominicdebiaso/Desktop/kaggle_facebook_checkins_knn.csv')"
   ]
  }
 ],
 "metadata": {
  "kernelspec": {
   "display_name": "Python 2",
   "language": "python",
   "name": "python2"
  },
  "language_info": {
   "codemirror_mode": {
    "name": "ipython",
    "version": 2
   },
   "file_extension": ".py",
   "mimetype": "text/x-python",
   "name": "python",
   "nbconvert_exporter": "python",
   "pygments_lexer": "ipython2",
   "version": "2.7.11"
  }
 },
 "nbformat": 4,
 "nbformat_minor": 1
}
