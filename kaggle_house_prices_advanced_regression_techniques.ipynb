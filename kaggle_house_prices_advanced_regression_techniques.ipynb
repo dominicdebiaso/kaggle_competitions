{
 "cells": [
  {
   "cell_type": "code",
   "execution_count": 193,
   "metadata": {
    "collapsed": false
   },
   "outputs": [],
   "source": [
    "import pandas as pd\n",
    "import numpy as np\n",
    "import matplotlib.pyplot as plt\n",
    "import seaborn as sns\n",
    "from sklearn.preprocessing import StandardScaler\n",
    "from sklearn.linear_model import LassoCV, RidgeCV, ElasticNet\n",
    "import xgboost as xgb\n",
    "from sklearn.ensemble import BaggingRegressor\n",
    "from sklearn.model_selection import cross_val_score\n",
    "\n",
    "%matplotlib inline"
   ]
  },
  {
   "cell_type": "code",
   "execution_count": 211,
   "metadata": {
    "collapsed": false
   },
   "outputs": [],
   "source": [
    "df_train = pd.read_csv('/Users/dominicdebiaso/Development/datasets/kaggle_house_prices_train.csv')\n",
    "df_test = pd.read_csv('/Users/dominicdebiaso/Development/datasets/kaggle_house_prices_test.csv')"
   ]
  },
  {
   "cell_type": "markdown",
   "metadata": {},
   "source": [
    "### EDA"
   ]
  },
  {
   "cell_type": "code",
   "execution_count": 18,
   "metadata": {
    "collapsed": false
   },
   "outputs": [
    {
     "data": {
      "text/html": [
       "<div>\n",
       "<table border=\"1\" class=\"dataframe\">\n",
       "  <thead>\n",
       "    <tr style=\"text-align: right;\">\n",
       "      <th></th>\n",
       "      <th>Id</th>\n",
       "      <th>MSSubClass</th>\n",
       "      <th>MSZoning</th>\n",
       "      <th>LotFrontage</th>\n",
       "      <th>LotArea</th>\n",
       "      <th>Street</th>\n",
       "      <th>Alley</th>\n",
       "      <th>LotShape</th>\n",
       "      <th>LandContour</th>\n",
       "      <th>Utilities</th>\n",
       "      <th>...</th>\n",
       "      <th>PoolArea</th>\n",
       "      <th>PoolQC</th>\n",
       "      <th>Fence</th>\n",
       "      <th>MiscFeature</th>\n",
       "      <th>MiscVal</th>\n",
       "      <th>MoSold</th>\n",
       "      <th>YrSold</th>\n",
       "      <th>SaleType</th>\n",
       "      <th>SaleCondition</th>\n",
       "      <th>SalePrice</th>\n",
       "    </tr>\n",
       "  </thead>\n",
       "  <tbody>\n",
       "    <tr>\n",
       "      <th>0</th>\n",
       "      <td>1</td>\n",
       "      <td>60</td>\n",
       "      <td>RL</td>\n",
       "      <td>65.0</td>\n",
       "      <td>8450</td>\n",
       "      <td>Pave</td>\n",
       "      <td>NaN</td>\n",
       "      <td>Reg</td>\n",
       "      <td>Lvl</td>\n",
       "      <td>AllPub</td>\n",
       "      <td>...</td>\n",
       "      <td>0</td>\n",
       "      <td>NaN</td>\n",
       "      <td>NaN</td>\n",
       "      <td>NaN</td>\n",
       "      <td>0</td>\n",
       "      <td>2</td>\n",
       "      <td>2008</td>\n",
       "      <td>WD</td>\n",
       "      <td>Normal</td>\n",
       "      <td>208500</td>\n",
       "    </tr>\n",
       "    <tr>\n",
       "      <th>1</th>\n",
       "      <td>2</td>\n",
       "      <td>20</td>\n",
       "      <td>RL</td>\n",
       "      <td>80.0</td>\n",
       "      <td>9600</td>\n",
       "      <td>Pave</td>\n",
       "      <td>NaN</td>\n",
       "      <td>Reg</td>\n",
       "      <td>Lvl</td>\n",
       "      <td>AllPub</td>\n",
       "      <td>...</td>\n",
       "      <td>0</td>\n",
       "      <td>NaN</td>\n",
       "      <td>NaN</td>\n",
       "      <td>NaN</td>\n",
       "      <td>0</td>\n",
       "      <td>5</td>\n",
       "      <td>2007</td>\n",
       "      <td>WD</td>\n",
       "      <td>Normal</td>\n",
       "      <td>181500</td>\n",
       "    </tr>\n",
       "    <tr>\n",
       "      <th>2</th>\n",
       "      <td>3</td>\n",
       "      <td>60</td>\n",
       "      <td>RL</td>\n",
       "      <td>68.0</td>\n",
       "      <td>11250</td>\n",
       "      <td>Pave</td>\n",
       "      <td>NaN</td>\n",
       "      <td>IR1</td>\n",
       "      <td>Lvl</td>\n",
       "      <td>AllPub</td>\n",
       "      <td>...</td>\n",
       "      <td>0</td>\n",
       "      <td>NaN</td>\n",
       "      <td>NaN</td>\n",
       "      <td>NaN</td>\n",
       "      <td>0</td>\n",
       "      <td>9</td>\n",
       "      <td>2008</td>\n",
       "      <td>WD</td>\n",
       "      <td>Normal</td>\n",
       "      <td>223500</td>\n",
       "    </tr>\n",
       "    <tr>\n",
       "      <th>3</th>\n",
       "      <td>4</td>\n",
       "      <td>70</td>\n",
       "      <td>RL</td>\n",
       "      <td>60.0</td>\n",
       "      <td>9550</td>\n",
       "      <td>Pave</td>\n",
       "      <td>NaN</td>\n",
       "      <td>IR1</td>\n",
       "      <td>Lvl</td>\n",
       "      <td>AllPub</td>\n",
       "      <td>...</td>\n",
       "      <td>0</td>\n",
       "      <td>NaN</td>\n",
       "      <td>NaN</td>\n",
       "      <td>NaN</td>\n",
       "      <td>0</td>\n",
       "      <td>2</td>\n",
       "      <td>2006</td>\n",
       "      <td>WD</td>\n",
       "      <td>Abnorml</td>\n",
       "      <td>140000</td>\n",
       "    </tr>\n",
       "    <tr>\n",
       "      <th>4</th>\n",
       "      <td>5</td>\n",
       "      <td>60</td>\n",
       "      <td>RL</td>\n",
       "      <td>84.0</td>\n",
       "      <td>14260</td>\n",
       "      <td>Pave</td>\n",
       "      <td>NaN</td>\n",
       "      <td>IR1</td>\n",
       "      <td>Lvl</td>\n",
       "      <td>AllPub</td>\n",
       "      <td>...</td>\n",
       "      <td>0</td>\n",
       "      <td>NaN</td>\n",
       "      <td>NaN</td>\n",
       "      <td>NaN</td>\n",
       "      <td>0</td>\n",
       "      <td>12</td>\n",
       "      <td>2008</td>\n",
       "      <td>WD</td>\n",
       "      <td>Normal</td>\n",
       "      <td>250000</td>\n",
       "    </tr>\n",
       "  </tbody>\n",
       "</table>\n",
       "<p>5 rows × 81 columns</p>\n",
       "</div>"
      ],
      "text/plain": [
       "   Id  MSSubClass MSZoning  LotFrontage  LotArea Street Alley LotShape  \\\n",
       "0   1          60       RL         65.0     8450   Pave   NaN      Reg   \n",
       "1   2          20       RL         80.0     9600   Pave   NaN      Reg   \n",
       "2   3          60       RL         68.0    11250   Pave   NaN      IR1   \n",
       "3   4          70       RL         60.0     9550   Pave   NaN      IR1   \n",
       "4   5          60       RL         84.0    14260   Pave   NaN      IR1   \n",
       "\n",
       "  LandContour Utilities    ...     PoolArea PoolQC Fence MiscFeature MiscVal  \\\n",
       "0         Lvl    AllPub    ...            0    NaN   NaN         NaN       0   \n",
       "1         Lvl    AllPub    ...            0    NaN   NaN         NaN       0   \n",
       "2         Lvl    AllPub    ...            0    NaN   NaN         NaN       0   \n",
       "3         Lvl    AllPub    ...            0    NaN   NaN         NaN       0   \n",
       "4         Lvl    AllPub    ...            0    NaN   NaN         NaN       0   \n",
       "\n",
       "  MoSold YrSold  SaleType  SaleCondition  SalePrice  \n",
       "0      2   2008        WD         Normal     208500  \n",
       "1      5   2007        WD         Normal     181500  \n",
       "2      9   2008        WD         Normal     223500  \n",
       "3      2   2006        WD        Abnorml     140000  \n",
       "4     12   2008        WD         Normal     250000  \n",
       "\n",
       "[5 rows x 81 columns]"
      ]
     },
     "execution_count": 18,
     "metadata": {},
     "output_type": "execute_result"
    }
   ],
   "source": [
    "df_train.head()"
   ]
  },
  {
   "cell_type": "code",
   "execution_count": 19,
   "metadata": {
    "collapsed": false
   },
   "outputs": [
    {
     "name": "stdout",
     "output_type": "stream",
     "text": [
      "('Feature difference btwn datasets', ['SalePrice'])\n"
     ]
    }
   ],
   "source": [
    "print(\"Feature difference btwn datasets\",list(set(df_train.columns) - set(df_test.columns)))"
   ]
  },
  {
   "cell_type": "code",
   "execution_count": 20,
   "metadata": {
    "collapsed": false,
    "scrolled": true
   },
   "outputs": [
    {
     "data": {
      "text/plain": [
       "PoolQC           1453\n",
       "MiscFeature      1406\n",
       "Alley            1369\n",
       "Fence            1179\n",
       "FireplaceQu       690\n",
       "LotFrontage       259\n",
       "GarageCond         81\n",
       "GarageType         81\n",
       "GarageYrBlt        81\n",
       "GarageFinish       81\n",
       "GarageQual         81\n",
       "BsmtExposure       38\n",
       "BsmtFinType2       38\n",
       "BsmtFinType1       37\n",
       "BsmtCond           37\n",
       "BsmtQual           37\n",
       "MasVnrArea          8\n",
       "MasVnrType          8\n",
       "Electrical          1\n",
       "Utilities           0\n",
       "YearRemodAdd        0\n",
       "MSSubClass          0\n",
       "Foundation          0\n",
       "ExterCond           0\n",
       "ExterQual           0\n",
       "Exterior2nd         0\n",
       "Exterior1st         0\n",
       "RoofMatl            0\n",
       "RoofStyle           0\n",
       "YearBuilt           0\n",
       "                 ... \n",
       "GarageArea          0\n",
       "PavedDrive          0\n",
       "WoodDeckSF          0\n",
       "OpenPorchSF         0\n",
       "3SsnPorch           0\n",
       "BsmtUnfSF           0\n",
       "ScreenPorch         0\n",
       "PoolArea            0\n",
       "MiscVal             0\n",
       "MoSold              0\n",
       "YrSold              0\n",
       "SaleType            0\n",
       "Functional          0\n",
       "TotRmsAbvGrd        0\n",
       "KitchenQual         0\n",
       "KitchenAbvGr        0\n",
       "BedroomAbvGr        0\n",
       "HalfBath            0\n",
       "FullBath            0\n",
       "BsmtHalfBath        0\n",
       "BsmtFullBath        0\n",
       "GrLivArea           0\n",
       "LowQualFinSF        0\n",
       "2ndFlrSF            0\n",
       "1stFlrSF            0\n",
       "CentralAir          0\n",
       "SaleCondition       0\n",
       "Heating             0\n",
       "TotalBsmtSF         0\n",
       "Id                  0\n",
       "dtype: int64"
      ]
     },
     "execution_count": 20,
     "metadata": {},
     "output_type": "execute_result"
    }
   ],
   "source": [
    "# Missing values\n",
    "df_train.isnull().sum().sort_values(ascending=False)"
   ]
  },
  {
   "cell_type": "code",
   "execution_count": 21,
   "metadata": {
    "collapsed": false
   },
   "outputs": [
    {
     "data": {
      "text/plain": [
       "<matplotlib.axes._subplots.AxesSubplot at 0x10ce7ba50>"
      ]
     },
     "execution_count": 21,
     "metadata": {},
     "output_type": "execute_result"
    },
    {
     "data": {
      "image/png": "[encoded data removed]",
      "text/plain": [
       "<matplotlib.figure.Figure at 0x10c645290>"
      ]
     },
     "metadata": {},
     "output_type": "display_data"
    }
   ],
   "source": [
    "# Distribution of target variable before and after log transformation\n",
    "fig, (ax1, ax2) = plt.subplots(ncols=2)\n",
    "sns.distplot(df_train.SalePrice, ax=ax1)\n",
    "sns.distplot(np.log(df_train.SalePrice), ax=ax2)"
   ]
  },
  {
   "cell_type": "markdown",
   "metadata": {
    "collapsed": true
   },
   "source": [
    "### Data Preprocessing "
   ]
  },
  {
   "cell_type": "code",
   "execution_count": 212,
   "metadata": {
    "collapsed": false
   },
   "outputs": [],
   "source": [
    "## Feature scaling\n",
    "# Numerical features with a mean=0 and stdev=1 \n",
    "def scale_train_features(df):\n",
    "    for col_var in df.select_dtypes(include=[np.number]).drop('SalePrice', 1).columns:\n",
    "        df[col_var] = StandardScaler().fit_transform(df[col_var])\n",
    "    return df\n",
    "def scale_test_features(df):\n",
    "    for col_var in df.select_dtypes(include=[np.number]).columns:\n",
    "        df[col_var] = StandardScaler().transform(df[col_var])\n",
    "    return df\n",
    "\n",
    "# numerical_features = df_train.select_dtypes(include=[np.number]).drop(['SalePrice'], axis=1).columns\n",
    "# df_train.loc[:, numerical_features] = StandardScaler().fit_transform(df_train.loc[:, numerical_features])\n",
    "# df_test.loc[:, numerical_features] = StandardScaler().transform(df_test.loc[:, numerical_features])\n",
    "\n",
    "## Standardization/ Normal distribution\n",
    "# Log transform variables that have a skew greater than 0.8 \n",
    "# Standardize to follow Gaussian dist of mean=0 and stdev=1\n",
    "# Note: Normalizing is used to get values btwn 0 and 1\n",
    "def standardize_values(df):\n",
    "    for col_var in df.select_dtypes(include=[np.number]):\n",
    "        if df[col_var].skew(skipna=True) > 0.8:\n",
    "            df[col_var] = np.log1p(df[col_var])\n",
    "        else:\n",
    "            print(\"{} transformation not needed\").format(col_var)\n",
    "    return df\n",
    "\n",
    "## Convert categorical variables to numerical\n",
    "def convert_categoricals(df):\n",
    "    for cat_col in df.select_dtypes(include=['object']):\n",
    "        df[cat_col] = pd.factorize(df[cat_col])[0]\n",
    "    return df\n",
    "\n",
    "## Fill NaNs with mean()\n",
    "def fill_nans(df):\n",
    "    return df.fillna(df.mean())"
   ]
  },
  {
   "cell_type": "code",
   "execution_count": 213,
   "metadata": {
    "collapsed": false,
    "scrolled": false
   },
   "outputs": [
    {
     "name": "stdout",
     "output_type": "stream",
     "text": [
      "Id transformation not needed\n",
      "OverallQual transformation not needed\n",
      "OverallCond transformation not needed\n",
      "YearBuilt transformation not needed\n",
      "YearRemodAdd transformation not needed\n",
      "BsmtFullBath transformation not needed\n",
      "FullBath transformation not needed\n",
      "HalfBath transformation not needed\n",
      "BedroomAbvGr transformation not needed\n",
      "TotRmsAbvGrd transformation not needed\n",
      "Fireplaces transformation not needed\n",
      "GarageYrBlt transformation not needed\n",
      "GarageCars transformation not needed\n",
      "GarageArea transformation not needed\n",
      "MoSold transformation not needed\n",
      "YrSold transformation not needed\n",
      "Id transformation not needed\n",
      "LotFrontage transformation not needed\n",
      "OverallQual transformation not needed\n",
      "OverallCond transformation not needed\n",
      "YearBuilt transformation not needed\n",
      "YearRemodAdd transformation not needed\n",
      "BsmtFullBath transformation not needed\n",
      "FullBath transformation not needed\n",
      "HalfBath transformation not needed\n",
      "BedroomAbvGr transformation not needed\n",
      "GarageYrBlt transformation not needed\n",
      "GarageCars transformation not needed\n",
      "GarageArea transformation not needed\n",
      "MoSold transformation not needed\n",
      "YrSold transformation not needed\n",
      "(1460, 79)\n",
      "(1460,)\n",
      "(1459, 79)\n"
     ]
    }
   ],
   "source": [
    "## Transform data for models\n",
    "train = fill_nans(convert_categoricals(standardize_values(df_train)))\n",
    "test = fill_nans(convert_categoricals(standardize_values(df_test)))\n",
    "\n",
    "# Create matrices\n",
    "X_train = train.iloc[:,:-1].drop('Id', 1)\n",
    "print(X_train.shape)\n",
    "y_train = train.iloc[:,-1]\n",
    "print(y_train.shape)\n",
    "X_test = test.drop('Id', 1)\n",
    "print(X_test.shape)"
   ]
  },
  {
   "cell_type": "markdown",
   "metadata": {},
   "source": [
    "### Models "
   ]
  },
  {
   "cell_type": "code",
   "execution_count": null,
   "metadata": {
    "collapsed": true
   },
   "outputs": [],
   "source": [
    "## Regularization used to handle collinearity, filter out noise from data, and prevent overfitting.\n",
    "# Regularization introduces additional information, bias, to penalize extreme parameter weights.\n",
    "# 'alpha' parameter contols the degree of sparsity of coefficiients estimated\n",
    "# as alpha increases, the model complexity is reduced however\n",
    "# high values reduce overfitting, values nearing 5 can lead to underfitting\n",
    "\n",
    "## RMSE vs MAE \n",
    "# Squared error penalizes large deviations more and produces larger errors (emphasizes extremes)\n",
    "# MAE causes the stdevs to average out and is able to handle outliers since it assigns equal weight\n",
    "# https://www.quora.com/What-is-the-difference-between-squared-error-and-absolute-error"
   ]
  },
  {
   "cell_type": "code",
   "execution_count": 214,
   "metadata": {
    "collapsed": false
   },
   "outputs": [
    {
     "data": {
      "text/plain": [
       "0.13920804026746608"
      ]
     },
     "execution_count": 214,
     "metadata": {},
     "output_type": "execute_result"
    }
   ],
   "source": [
    "## RidgeCV\n",
    "# L2 adds the squared sum of weights to cost function\n",
    "ridge = RidgeCV(alphas=[0.0001, 0.001, 0.01, 0.1, 1, 10, 100])\n",
    "np.sqrt(-cross_val_score(ridge, X_train, y_train, cv=10, scoring='neg_mean_squared_error')).mean()"
   ]
  },
  {
   "cell_type": "code",
   "execution_count": 215,
   "metadata": {
    "collapsed": false
   },
   "outputs": [
    {
     "data": {
      "text/plain": [
       "0.13882805250658239"
      ]
     },
     "execution_count": 215,
     "metadata": {},
     "output_type": "execute_result"
    }
   ],
   "source": [
    "## LassoCV\n",
    "# L1 adds the sum of the sbsolute value of the weights which yields sparse feature fectors that may be zero\n",
    "lasso = LassoCV(alphas=[0.0001, 0.001, 0.01, 0.1, 1, 10, 100])\n",
    "np.sqrt(-cross_val_score(lasso, X_train, y_train, cv=10, scoring='neg_mean_squared_error')).mean()"
   ]
  },
  {
   "cell_type": "code",
   "execution_count": 216,
   "metadata": {
    "collapsed": false
   },
   "outputs": [
    {
     "data": {
      "text/plain": [
       "<matplotlib.axes._subplots.AxesSubplot at 0x10ec9f490>"
      ]
     },
     "execution_count": 216,
     "metadata": {},
     "output_type": "execute_result"
    },
    {
     "data": {
      "image/png": "[encoded data removed]",
      "text/plain": [
       "<matplotlib.figure.Figure at 0x10d82a990>"
      ]
     },
     "metadata": {},
     "output_type": "display_data"
    }
   ],
   "source": [
    "# L1 Feature Importance\n",
    "lasso.fit(X_train, y_train)\n",
    "lasso_feats = pd.Series(lasso.coef_, index=X_train.columns).sort_values()\n",
    "lasso_feats = pd.concat([lasso_feats.head(5), lasso_feats.tail(5)])\n",
    "lasso_feats.plot(kind='barh')"
   ]
  },
  {
   "cell_type": "code",
   "execution_count": 217,
   "metadata": {
    "collapsed": false
   },
   "outputs": [
    {
     "data": {
      "text/plain": [
       "0.13769201363919034"
      ]
     },
     "execution_count": 217,
     "metadata": {},
     "output_type": "execute_result"
    }
   ],
   "source": [
    "## ElasticNet\n",
    "# L1 penalty to generate sparsity and L2 to overcome limitations of Lasso, such as number of variables\n",
    "elastic = ElasticNet(alpha=0.001)\n",
    "np.sqrt(-cross_val_score(elastic, X_train, y_train, cv=10, scoring='neg_mean_squared_error')).mean()"
   ]
  },
  {
   "cell_type": "code",
   "execution_count": 218,
   "metadata": {
    "collapsed": false
   },
   "outputs": [],
   "source": [
    "## Predictions with ElasticNet (lowest RMSE)\n",
    "# elastic.fit(X_train, y_train)\n",
    "# elastic_pred = np.exp(elastic.predict(X_test))\n",
    "# df_elastic = pd.DataFrame(elastic_pred, index=df_test['Id'], columns=['SalePrice'])\n",
    "# df_elastic.to_csv('/Users/dominicdebiaso/Desktop/kaggle_house_prices_elasticnet.csv')\n",
    "\n",
    "# Perform Bootstrap Aggregation on ElasticNet\n",
    "# Fit base regressors on a random subset of original and aggregate individual predictions\n",
    "# Redduces variace by introducing randomization\n",
    "# Bootstrap: drawn with replacement\n",
    "bagged = BaggingRegressor(base_estimator=elastic, n_estimators=100)\n",
    "bagged.fit(X_train, y_train)\n",
    "bagged_pred = np.exp(bagged.predict(X_test))\n",
    "df_bagged = pd.DataFrame(bagged_pred, index=df_test['Id'], columns=['SalePrice'])\n",
    "# df_bagged.to_csv('/Users/dominicdebiaso/Desktop/kaggle_house_prices_bagged.csv')"
   ]
  },
  {
   "cell_type": "markdown",
   "metadata": {},
   "source": [
    "### XGBoost"
   ]
  },
  {
   "cell_type": "code",
   "execution_count": 219,
   "metadata": {
    "collapsed": false
   },
   "outputs": [],
   "source": [
    "# Determine optimal 'n_estimators'\n",
    "dtrain = xgb.DMatrix(X_train, y_train)\n",
    "dtest = xgb.DMatrix(X_test)\n",
    "\n",
    "param = {'eta': 0.01,\n",
    "         'max_depth': 5,\n",
    "         'subsample':0.7,\n",
    "         'objective':'reg:linear'}\n",
    "xgb_cv = xgb.cv(param, dtrain, num_boost_round=3000, nfold=5, metrics=['rmse'], early_stopping_rounds=100)\n",
    "best_nrounds = xgb_cv.shape[0]\n",
    "\n",
    "bst = xgb.train(param, dtrain, num_boost_round=best_nrounds)\n",
    "preds = np.exp(bst.predict(dtest))\n",
    "df_xgb = pd.DataFrame(preds, index=df_test['Id'], columns=['SalePrice'])\n",
    "# df_xgb.to_csv('/Users/dominicdebiaso/Desktop/kaggle_house_prices_xbg.csv')"
   ]
  },
  {
   "cell_type": "markdown",
   "metadata": {},
   "source": [
    "### Ensemble ElasticNet & XGBoost "
   ]
  },
  {
   "cell_type": "code",
   "execution_count": 220,
   "metadata": {
    "collapsed": true
   },
   "outputs": [],
   "source": [
    "# Scikit XGBRegressor to ensemble with Bagged ElasticNet\n",
    "param = {'learning_rate': 0.01,\n",
    "         'max_depth': 5,\n",
    "         'subsample':0.7,\n",
    "         'n_estimators': best_nrounds,\n",
    "         'objective':'reg:linear'}\n",
    "xgb_reg = xgb.XGBRegressor()\n",
    "xgb_reg.fit(X_train, y_train)\n",
    "xgb_reg_preds = np.exp(xgb_reg.predict(X_test))"
   ]
  },
  {
   "cell_type": "code",
   "execution_count": 221,
   "metadata": {
    "collapsed": true
   },
   "outputs": [],
   "source": [
    "# Create ensemble model by averaging\n",
    "ensemble_pred = (0.6*bagged_pred) + (0.4*xgb_reg_preds)\n",
    "df_ensemble = pd.DataFrame(ensemble_pred, index=df_test['Id'], columns=['SalePrice'])\n",
    "df_ensemble.to_csv('/Users/dominicdebiaso/Desktop/kaggle_house_prices_ensemble.csv')"
   ]
  },
  {
   "cell_type": "code",
   "execution_count": null,
   "metadata": {
    "collapsed": true
   },
   "outputs": [],
   "source": []
  }
 ],
 "metadata": {
  "kernelspec": {
   "display_name": "Python 2",
   "language": "python",
   "name": "python2"
  },
  "language_info": {
   "codemirror_mode": {
    "name": "ipython",
    "version": 2
   },
   "file_extension": ".py",
   "mimetype": "text/x-python",
   "name": "python",
   "nbconvert_exporter": "python",
   "pygments_lexer": "ipython2",
   "version": "2.7.11"
  }
 },
 "nbformat": 4,
 "nbformat_minor": 1
}
