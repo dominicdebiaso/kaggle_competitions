{
 "cells": [
  {
   "cell_type": "code",
   "execution_count": 1,
   "metadata": {
    "collapsed": false
   },
   "outputs": [
    {
     "name": "stderr",
     "output_type": "stream",
     "text": [
      "Using TensorFlow backend.\n"
     ]
    }
   ],
   "source": [
    "import pandas as pd\n",
    "import numpy as np\n",
    "from sklearn.preprocessing import LabelEncoder, StandardScaler\n",
    "from keras.models import Sequential\n",
    "from keras.layers import Dense\n",
    "# from keras.utils.np_utils import to_categorical\n",
    "import matplotlib.pyplot as plt\n",
    "\n",
    "%matplotlib inline"
   ]
  },
  {
   "cell_type": "code",
   "execution_count": 2,
   "metadata": {
    "collapsed": true
   },
   "outputs": [],
   "source": [
    "df_train = pd.read_csv('/Users/dominicdebiaso/Development/datasets/kaggle_leaf_train.csv')\n",
    "df_test = pd.read_csv('/Users/dominicdebiaso/Development/datasets/kaggle_leaf_test.csv')"
   ]
  },
  {
   "cell_type": "markdown",
   "metadata": {},
   "source": [
    "### Data Processing"
   ]
  },
  {
   "cell_type": "code",
   "execution_count": 3,
   "metadata": {
    "collapsed": false
   },
   "outputs": [
    {
     "name": "stdout",
     "output_type": "stream",
     "text": [
      "(990, 192)\n",
      "(990,)\n",
      "(594, 192)\n"
     ]
    }
   ],
   "source": [
    "## Split data\n",
    "X_train = df_train.drop(['id', 'species'], axis=1)\n",
    "y_train = np.ravel(df_train[['species']]) #1D matrix\n",
    "X_test = df_test.drop('id', axis=1)\n",
    "\n",
    "print(X_train.shape)\n",
    "print(y_train.shape)\n",
    "print(X_test.shape)"
   ]
  },
  {
   "cell_type": "code",
   "execution_count": 4,
   "metadata": {
    "collapsed": false
   },
   "outputs": [
    {
     "name": "stdout",
     "output_type": "stream",
     "text": [
      "(990, 99)\n"
     ]
    }
   ],
   "source": [
    "## Scale features\n",
    "scaler = StandardScaler()\n",
    "X_train = scaler.fit_transform(X_train)\n",
    "X_test = scaler.transform(X_test)\n",
    "\n",
    "## Convert target feature into numerical format\n",
    "le = LabelEncoder()\n",
    "y_train = le.fit_transform(y_train)\n",
    "\n",
    "## Futhermore convert to dummy for categorical crossentropy (ie. mlogloss)\n",
    "y_train = pd.get_dummies(y_train).as_matrix() #to_categorical(y_train)\n",
    "print(y_train.shape)"
   ]
  },
  {
   "cell_type": "markdown",
   "metadata": {},
   "source": [
    "### Model Development"
   ]
  },
  {
   "cell_type": "code",
   "execution_count": 13,
   "metadata": {
    "collapsed": false
   },
   "outputs": [],
   "source": [
    "model = Sequential()\n",
    "model.add(Dense(1024, input_dim=192, init='uniform', activation='relu')) #Dense is regular fully connected NN\n",
    "                                                                         #1000 neurons with 192 dimensions (# features)\n",
    "                                                                         #hidden layer rectifier activation function\n",
    "model.add(Dense(512, init='uniform', activation='relu'))\n",
    "model.add(Dense(99, init='uniform', activation='softmax')) #softmax for output layer so probilistic dist. of outcomes\n",
    "                                                           #99 neurons to match number of predictor categories\n",
    "model.compile(loss='categorical_crossentropy', optimizer='adam', metrics=['accuracy']) #multiclass logloss\n",
    "                                                                                       #efficient grad des (ie. ADAM)\n",
    "                                                                                       #to learn weights\n",
    "history = model.fit(X_train, y_train, \n",
    "                    batch_size=2000, nb_epoch=100, verbose=0) #batch of data to train on and use updated weights \n",
    "                                                             #computer gradient for every learning vector \n",
    "                                                             #and update weight\n",
    "                                                             #better performance and convergence with higher batch\n",
    "                                                             #esp. when using simple algo like sgd\n",
    "                                                             #more complex algos like rmsprop and adam aren't affected\n",
    "                                                             #epoch - number of iterations"
   ]
  },
  {
   "cell_type": "code",
   "execution_count": 70,
   "metadata": {
    "collapsed": false
   },
   "outputs": [
    {
     "name": "stdout",
     "output_type": "stream",
     "text": [
      "____________________________________________________________________________________________________\n",
      "Layer (type)                     Output Shape          Param #     Connected to                     \n",
      "====================================================================================================\n",
      "dense_19 (Dense)                 (None, 1024)          197632      dense_input_9[0][0]              \n",
      "____________________________________________________________________________________________________\n",
      "dense_20 (Dense)                 (None, 512)           524800      dense_19[0][0]                   \n",
      "____________________________________________________________________________________________________\n",
      "dense_21 (Dense)                 (None, 99)            50787       dense_20[0][0]                   \n",
      "====================================================================================================\n",
      "Total params: 773219\n",
      "____________________________________________________________________________________________________\n"
     ]
    }
   ],
   "source": [
    "model.summary()"
   ]
  },
  {
   "cell_type": "code",
   "execution_count": 71,
   "metadata": {
    "collapsed": false
   },
   "outputs": [
    {
     "data": {
      "text/plain": [
       "<matplotlib.text.Text at 0x11e141e10>"
      ]
     },
     "execution_count": 71,
     "metadata": {},
     "output_type": "execute_result"
    },
    {
     "data": {
      "image/png": "[encoded data removed]",
      "text/plain": [
       "<matplotlib.figure.Figure at 0x11cf33110>"
      ]
     },
     "metadata": {},
     "output_type": "display_data"
    }
   ],
   "source": [
    "plt.figure(figsize=(6,6))\n",
    "plt.plot(history.history['loss'])\n",
    "plt.xlabel('# of Iterations')\n",
    "plt.ylabel('Multiclass Log Loss')"
   ]
  },
  {
   "cell_type": "code",
   "execution_count": 72,
   "metadata": {
    "collapsed": false
   },
   "outputs": [
    {
     "name": "stdout",
     "output_type": "stream",
     "text": [
      "576/594 [============================>.] - ETA: 0s"
     ]
    }
   ],
   "source": [
    "## Predict and create submission\n",
    "y_pred_proba = model.predict_proba(X_test)\n",
    "df_nn = pd.DataFrame(y_pred_proba, index=df_test['id'], columns=le.classes_)\n",
    "df_nn.to_csv('/Users/dominicdebiaso/Desktop/kaggle_leaf_classification_neural_net.csv')"
   ]
  },
  {
   "cell_type": "code",
   "execution_count": null,
   "metadata": {
    "collapsed": true
   },
   "outputs": [],
   "source": []
  }
 ],
 "metadata": {
  "kernelspec": {
   "display_name": "Python 2",
   "language": "python",
   "name": "python2"
  },
  "language_info": {
   "codemirror_mode": {
    "name": "ipython",
    "version": 2
   },
   "file_extension": ".py",
   "mimetype": "text/x-python",
   "name": "python",
   "nbconvert_exporter": "python",
   "pygments_lexer": "ipython2",
   "version": "2.7.11"
  }
 },
 "nbformat": 4,
 "nbformat_minor": 1
}
