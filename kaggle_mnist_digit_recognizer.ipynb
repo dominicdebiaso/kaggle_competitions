{
 "cells": [
  {
   "cell_type": "code",
   "execution_count": 1,
   "metadata": {
    "collapsed": true
   },
   "outputs": [],
   "source": [
    "import pandas as pd\n",
    "from sklearn.decomposition import PCA\n",
    "from sklearn.linear_model import LogisticRegression\n",
    "from sklearn.ensemble import RandomForestClassifier"
   ]
  },
  {
   "cell_type": "code",
   "execution_count": 2,
   "metadata": {
    "collapsed": false
   },
   "outputs": [],
   "source": [
    "# Import train data and read to df\n",
    "desk_path = '/Users/dominicdebiaso/Development/datasets/'\n",
    "df = pd.read_csv(desk_path + 'kaggle_digit_train.csv')\n",
    "df_test = pd.read_csv(desk_path + 'kaggle_digit_test.csv')"
   ]
  },
  {
   "cell_type": "code",
   "execution_count": 3,
   "metadata": {
    "collapsed": false
   },
   "outputs": [],
   "source": [
    "# Split df into train/test\n",
    "train_x = df.values[0::,1::]\n",
    "train_y = df.values[0::,0]\n",
    "test_x = df_test.values"
   ]
  },
  {
   "cell_type": "code",
   "execution_count": 4,
   "metadata": {
    "collapsed": false
   },
   "outputs": [],
   "source": [
    "# PCA helps to set aside variables with low variance and takes \n",
    "# care of collinearity (when two variables more-or-less represent \n",
    "# the same thing and thus explain the same principal component.\n",
    "# First principal component contains a vector (ie. line in the \n",
    "# direction) with the largest variance. Second principal component \n",
    "# contains the line with the second highest variance and is \n",
    "# orthgonal to the first. Variables that are identical across all \n",
    "# data has a variance of zero and doesn't contribute to explain \n",
    "# any of the pincipal components.\n",
    "\n",
    "pca = PCA(n_components=0.8,whiten=True)\n",
    "train_x = pca.fit_transform(train_x)\n",
    "test_x = pca.transform(test_x)"
   ]
  },
  {
   "cell_type": "code",
   "execution_count": 5,
   "metadata": {
    "collapsed": true
   },
   "outputs": [],
   "source": [
    "# Logistic Regression\n",
    "lrc = LogisticRegression()\n",
    "lrc = lrc.fit(train_x, train_y)\n",
    "lrc = lrc.predict(test_x)\n",
    "\n",
    "# score 0.9079"
   ]
  },
  {
   "cell_type": "code",
   "execution_count": 6,
   "metadata": {
    "collapsed": false
   },
   "outputs": [],
   "source": [
    "mlogit = LogisticRegression(multi_class='multinomial')\n",
    "mlogit = mlogit.fit(train_x, train_y)\n",
    "mlogit = mlogit.predict(test_x)\n",
    "\n",
    "# score 0."
   ]
  },
  {
   "cell_type": "code",
   "execution_count": 86,
   "metadata": {
    "collapsed": false
   },
   "outputs": [],
   "source": [
    "# Random Forest\n",
    "rfc = RandomForestClassifier()\n",
    "rfc = rfc.fit(train_x, train_y)\n",
    "rfc = rfc.predict(test_x)\n",
    "\n",
    "# score 0.9364"
   ]
  },
  {
   "cell_type": "code",
   "execution_count": 92,
   "metadata": {
    "collapsed": false
   },
   "outputs": [],
   "source": [
    "# Print predictions to file\n",
    "predict_output = {'ImageId': df_test.index+1, 'Label': lrc}\n",
    "output = pd.DataFrame(data = predict_output)\n",
    "output.to_csv(\"/Users/dominicdebiaso/Desktop/kaggle_digit_model.csv\", index=False)"
   ]
  }
 ],
 "metadata": {
  "kernelspec": {
   "display_name": "Python 2",
   "language": "python",
   "name": "python2"
  },
  "language_info": {
   "codemirror_mode": {
    "name": "ipython",
    "version": 2
   },
   "file_extension": ".py",
   "mimetype": "text/x-python",
   "name": "python",
   "nbconvert_exporter": "python",
   "pygments_lexer": "ipython2",
   "version": "2.7.11"
  }
 },
 "nbformat": 4,
 "nbformat_minor": 0
}
