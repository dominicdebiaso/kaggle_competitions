{
 "cells": [
  {
   "cell_type": "code",
   "execution_count": 2,
   "metadata": {
    "collapsed": false
   },
   "outputs": [],
   "source": [
    "import pandas as pd\n",
    "import numpy as np\n",
    "from sklearn.model_selection import GridSearchCV\n",
    "from sklearn.preprocessing import LabelEncoder\n",
    "from sklearn.metrics import classification_report\n",
    "from sklearn.ensemble import RandomForestClassifier\n",
    "import xgboost as xgb\n",
    "\n",
    "%matplotlib inline"
   ]
  },
  {
   "cell_type": "code",
   "execution_count": 3,
   "metadata": {
    "collapsed": false
   },
   "outputs": [],
   "source": [
    "df_train = pd.read_csv('/Users/dominicdebiaso/Development/datasets/kaggle_crime_train.csv', parse_dates=['Dates'])\n",
    "df_test = pd.read_csv('/Users/dominicdebiaso/Development/datasets/kaggle_crime_test.csv', \n",
    "                      parse_dates=['Dates'], index_col='Id')"
   ]
  },
  {
   "cell_type": "markdown",
   "metadata": {},
   "source": [
    "### Data Munging"
   ]
  },
  {
   "cell_type": "code",
   "execution_count": 4,
   "metadata": {
    "collapsed": false
   },
   "outputs": [],
   "source": [
    "df_train.head()"
   ]
  },
  {
   "cell_type": "code",
   "execution_count": 6,
   "metadata": {
    "collapsed": false
   },
   "outputs": [],
   "source": [
    "df_train.dtypes"
   ]
  },
  {
   "cell_type": "code",
   "execution_count": 7,
   "metadata": {
    "collapsed": false
   },
   "outputs": [],
   "source": [
    "df_train.isnull().sum()"
   ]
  },
  {
   "cell_type": "code",
   "execution_count": 8,
   "metadata": {
    "collapsed": true
   },
   "outputs": [],
   "source": [
    "def process_data(df):\n",
    "    # Create additional variables from the 'date' field\n",
    "    df['hour'] = df['Dates'].dt.hour\n",
    "    df['day'] = df['Dates'].dt.day\n",
    "    df['dayofyear'] = df['Dates'].dt.dayofyear\n",
    "    df['weekofyear'] = df['Dates'].dt.weekofyear\n",
    "    df['month'] = df['Dates'].dt.month\n",
    "    df['year'] = df['Dates'].dt.year\n",
    "    \n",
    "    # If the 'address' field does not contain \"block\" then crime occured on a street corner\n",
    "#     pd.Categorical(df['Category']).categories\n",
    "    df['corner_crime'] = np.where(df['Address'].str.contains('Block', case=False), 0, 1)\n",
    "    \n",
    "    le = LabelEncoder()\n",
    "    col_list = ['DayOfWeek', 'PdDistrict']\n",
    "    for i in col_list:\n",
    "        df[i+'_num'] = le.fit_transform(df[i])\n",
    "    \n",
    "    return pd.concat([df['hour'], df['day'], df['dayofyear'], df['weekofyear'], pd.get_dummies(df['month']), \n",
    "                      pd.get_dummies(df['year']), df['corner_crime'], df['DayOfWeek_num'], df['PdDistrict_num'], \n",
    "                      df['X'], df['Y']], axis=1)"
   ]
  },
  {
   "cell_type": "code",
   "execution_count": 9,
   "metadata": {
    "collapsed": false
   },
   "outputs": [],
   "source": [
    "# Create new dfs\n",
    "train = process_data(df_train)\n",
    "test = process_data(df_test)"
   ]
  },
  {
   "cell_type": "markdown",
   "metadata": {},
   "source": [
    "### Random Forest "
   ]
  },
  {
   "cell_type": "code",
   "execution_count": null,
   "metadata": {
    "collapsed": false
   },
   "outputs": [],
   "source": [
    "rfc = RandomForestClassifier()\n",
    "rfc.fit(train, df_train['Category'])\n",
    "df_rfc_results = pd.DataFrame(rfc.predict_proba(test), index=test.index, columns=rfc.classes_)"
   ]
  },
  {
   "cell_type": "markdown",
   "metadata": {},
   "source": [
    "### XGBoost "
   ]
  },
  {
   "cell_type": "code",
   "execution_count": 18,
   "metadata": {
    "collapsed": false
   },
   "outputs": [],
   "source": [
    "xgbc = xgb.XGBClassifier()\n",
    "\n",
    "param_grid = {\n",
    "    ## Booster parameters\n",
    "    'learning_rate':np.arange(0,1,0.5).tolist(),      #also 'eta', make model, reduce learning rate to reduce overfit \n",
    "                                                      #but add more trees. scales how much each tree's effect changes \n",
    "                                                      #overall prediction. Small values lead to smaller steps in \n",
    "                                                      #gradient direction while big ones mean faster convergence but \n",
    "                                                      #boosting may not result in best optimum\n",
    "    'n_estimators':range(50,700,200),                 #want lots of trees though too many can lead to overfitting\n",
    "    'max_depth':range(3,10,4),                        #large impact on model outcome, high values may lead to overfit\n",
    "                                                      #want to avoid too deep to overfit but deep enough to learn\n",
    "    'min_child_weight':range(1,6,3),                  #control model complexity, larger = conservative\n",
    "    'gamma':np.arange(0,1,0.5).tolist(),              #control model complexity, larger = conservative\n",
    "    'subsample':np.arange(0,1,0.5).tolist(),          #add randomness to make training robust to nosie\n",
    "    'colsample_bytree':np.arange(0.1,1,0.5).tolist(), #add randomness to make training robust to nosie\n",
    "    # Regularization parameters\n",
    "    'reg_alphda':[1e-2, 1, 100],                      #L1, reduce overfitting, gamma mostly handles this\n",
    "    'reg_lambda':[1e-2, 1, 100],                      #L2, reduce overfitting, gamma mostly handles this\n",
    "    \n",
    "    ## Learning Task parameters\n",
    "    'objective':['multi:softprob']                    #multiclass classification with predicted probabilities\n",
    "             }\n",
    "grid = GridSearchCV(xgbc, param_grid, cv=5, n_jobs=1, scoring='neg_log_loss') #logloss: long term growth rate\n",
    "                                                                              #evalauting preds of probs of given class"
   ]
  },
  {
   "cell_type": "code",
   "execution_count": 19,
   "metadata": {
    "collapsed": false
   },
   "outputs": [
    {
     "data": {
      "text/plain": [
       "GridSearchCV(cv=5, error_score='raise',\n",
       "       estimator=XGBClassifier(base_score=0.5, colsample_bylevel=1, colsample_bytree=1,\n",
       "       gamma=0, learning_rate=0.1, max_delta_step=0, max_depth=3,\n",
       "       min_child_weight=1, missing=None, n_estimators=100, nthread=-1,\n",
       "       objective='binary:logistic', reg_alpha=0, reg_lambda=1,\n",
       "       scale_pos_weight=1, seed=0, silent=True, subsample=1),\n",
       "       fit_params={}, iid=True, n_jobs=1,\n",
       "       param_grid={'colsample_bytree': [0.1, 0.6], 'learning_rate': [0.0, 0.5], 'n_estimators': [25], 'objective': ['multi:softprob'], 'max_depth': [3, 7], 'gamma': [0.0, 0.5]},\n",
       "       pre_dispatch='2*n_jobs', refit=True, return_train_score=True,\n",
       "       scoring='neg_log_loss', verbose=0)"
      ]
     },
     "execution_count": 19,
     "metadata": {},
     "output_type": "execute_result"
    }
   ],
   "source": [
    "grid.fit(train, df_train['Category'])"
   ]
  },
  {
   "cell_type": "code",
   "execution_count": 41,
   "metadata": {
    "collapsed": false
   },
   "outputs": [],
   "source": [
    "df_xgbc_results = pd.DataFrame(grid.predict_proba(test), index=test.index, \n",
    "                               columns=pd.Categorical(df_train['Category']).categories.tolist())\n",
    "df_xgbc_results.to_csv('/Users/dominicdebiaso/Desktop/kaggle_sanfran_crime_submission.csv')"
   ]
  },
  {
   "cell_type": "markdown",
   "metadata": {
    "collapsed": true
   },
   "source": [
    "### EDA"
   ]
  },
  {
   "cell_type": "code",
   "execution_count": null,
   "metadata": {
    "collapsed": false
   },
   "outputs": [],
   "source": [
    "df['PdDistrict'].value_counts().plot(kind='bar')"
   ]
  }
 ],
 "metadata": {
  "kernelspec": {
   "display_name": "Python 2",
   "language": "python",
   "name": "python2"
  },
  "language_info": {
   "codemirror_mode": {
    "name": "ipython",
    "version": 2
   },
   "file_extension": ".py",
   "mimetype": "text/x-python",
   "name": "python",
   "nbconvert_exporter": "python",
   "pygments_lexer": "ipython2",
   "version": "2.7.11"
  }
 },
 "nbformat": 4,
 "nbformat_minor": 0
}
