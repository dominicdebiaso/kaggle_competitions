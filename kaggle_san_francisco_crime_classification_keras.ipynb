{
 "cells": [
  {
   "cell_type": "code",
   "execution_count": 2,
   "metadata": {
    "collapsed": false
   },
   "outputs": [],
   "source": [
    "import pandas as pd\n",
    "import numpy as np\n",
    "from sklearn.preprocessing import LabelEncoder, StandardScaler\n",
    "from keras.models import Sequential\n",
    "from keras.layers import Dense, Dropout, BatchNormalization\n",
    "from keras.utils.np_utils import to_categorical"
   ]
  },
  {
   "cell_type": "code",
   "execution_count": 3,
   "metadata": {
    "collapsed": true
   },
   "outputs": [],
   "source": [
    "df_train = pd.read_csv('/Users/dominicdebiaso/Development/datasets/kaggle_crime_train.csv', parse_dates=['Dates'])\n",
    "df_test = pd.read_csv('/Users/dominicdebiaso/Development/datasets/kaggle_crime_test.csv', \n",
    "                      parse_dates=['Dates'], index_col='Id')"
   ]
  },
  {
   "cell_type": "markdown",
   "metadata": {},
   "source": [
    "### Data Processing"
   ]
  },
  {
   "cell_type": "code",
   "execution_count": 4,
   "metadata": {
    "collapsed": true
   },
   "outputs": [],
   "source": [
    "def process_data(df):\n",
    "    # Create additional variables from the 'date' field\n",
    "    df['hour'] = df['Dates'].dt.hour\n",
    "    df['day'] = df['Dates'].dt.day\n",
    "    df['dayofyear'] = df['Dates'].dt.dayofyear\n",
    "    df['weekofyear'] = df['Dates'].dt.weekofyear\n",
    "    df['month'] = df['Dates'].dt.month\n",
    "    df['year'] = df['Dates'].dt.year\n",
    "    \n",
    "    # If the 'address' field does not contain \"block\" then crime occured on a street corner\n",
    "#     pd.Categorical(df['Category']).categories\n",
    "    df['corner_crime'] = np.where(df['Address'].str.contains('Block', case=False), 0, 1)\n",
    "    \n",
    "    le = LabelEncoder()\n",
    "    col_list = ['DayOfWeek', 'PdDistrict']\n",
    "    for i in col_list:\n",
    "        df[i+'_num'] = le.fit_transform(df[i])\n",
    "    \n",
    "    return pd.concat([df['hour'], df['day'], df['dayofyear'], df['weekofyear'], pd.get_dummies(df['month']), \n",
    "                      pd.get_dummies(df['year']), df['corner_crime'], df['DayOfWeek_num'], df['PdDistrict_num'], \n",
    "                      df['X'], df['Y']], axis=1)\n",
    "\n",
    "## Create new dfs\n",
    "train = process_data(df_train)\n",
    "test = process_data(df_test)"
   ]
  },
  {
   "cell_type": "code",
   "execution_count": 9,
   "metadata": {
    "collapsed": false
   },
   "outputs": [
    {
     "name": "stdout",
     "output_type": "stream",
     "text": [
      "(878049, 34)\n",
      "(884262, 34)\n",
      "(878049,)\n",
      "(878049, 39)\n"
     ]
    }
   ],
   "source": [
    "## Scale data\n",
    "scaler = StandardScaler()\n",
    "X_train = scaler.fit_transform(train)\n",
    "X_test = scaler.transform(test)\n",
    "print(X_train.shape)\n",
    "print(X_test.shape)\n",
    "\n",
    "## Convert target variable to numerical format and then dummy encode (ie. OHE)\n",
    "le = LabelEncoder()\n",
    "y_train = le.fit_transform(df_train['Category'])\n",
    "print(y_train.shape)\n",
    "y_train = to_categorical(y_train)\n",
    "print(y_train.shape)"
   ]
  },
  {
   "cell_type": "markdown",
   "metadata": {},
   "source": [
    "### Neural Network Development"
   ]
  },
  {
   "cell_type": "code",
   "execution_count": 3,
   "metadata": {
    "collapsed": false
   },
   "outputs": [],
   "source": [
    "# Initialize model\n",
    "model = Sequential()\n",
    "model.add(Dense(34, input_dim=34, init='glorot_uniform', activation='relu'))\n",
    "model.add(Dropout(0.4))\n",
    "model.add(Dense(17, init='glorot_uniform', activation='relu'))\n",
    "model.add(BatchNormalization()) #used btwn linear and non-linear layers to normalize activation function as to be \n",
    "                                #centered in the linear section of the activation function (such as Sigmoid)\n",
    "model.add(Dropout(0.4))\n",
    "model.add(Dense(39, init='glorot_uniform', activation='softmax'))\n",
    "\n",
    "model.compile(loss='categorical_crossentropy', optimizer='adam', metrics=['accuracy'])\n",
    "\n",
    "model.fit(X_train, y_train, batch_size=1000, nb_epoch=10, verbose=0)"
   ]
  },
  {
   "cell_type": "code",
   "execution_count": 14,
   "metadata": {
    "collapsed": false
   },
   "outputs": [
    {
     "name": "stdout",
     "output_type": "stream",
     "text": [
      "884000/884262 [============================>.] - ETA: 0s"
     ]
    }
   ],
   "source": [
    "# Predict values\n",
    "y_pred_proba = model.predict_proba(X_test)\n",
    "df_nn = pd.DataFrame(y_pred_proba, index=df_test.index, columns=le.classes_)\n",
    "df_nn.to_csv('/Users/dominicdebiaso/Desktop/kaggle_san_fran_crime_neural_net.csv')"
   ]
  },
  {
   "cell_type": "code",
   "execution_count": null,
   "metadata": {
    "collapsed": true
   },
   "outputs": [],
   "source": []
  }
 ],
 "metadata": {
  "kernelspec": {
   "display_name": "Python 2",
   "language": "python",
   "name": "python2"
  },
  "language_info": {
   "codemirror_mode": {
    "name": "ipython",
    "version": 2
   },
   "file_extension": ".py",
   "mimetype": "text/x-python",
   "name": "python",
   "nbconvert_exporter": "python",
   "pygments_lexer": "ipython2",
   "version": "2.7.11"
  }
 },
 "nbformat": 4,
 "nbformat_minor": 1
}
