{
 "cells": [
  {
   "cell_type": "code",
   "execution_count": null,
   "metadata": {
    "collapsed": true
   },
   "outputs": [],
   "source": [
    "# https://www.kaggle.com/anokas/santander-product-recommendation/collaborative-filtering-btb-lb-0-01691/code\n",
    "# https://www.kaggle.com/sudalairajkumar/santander-product-recommendation/keras-starter-script\n",
    "# https://www.kaggle.com/yoyocm/santander-product-recommendation/santander-find-customers-similarities\n",
    "# https://www.kaggle.com/sudalairajkumar/santander-product-recommendation/rf-multilabel-framework-lb-0-022475/code"
   ]
  }
 ],
 "metadata": {
  "kernelspec": {
   "display_name": "Python 2",
   "language": "python",
   "name": "python2"
  },
  "language_info": {
   "codemirror_mode": {
    "name": "ipython",
    "version": 2
   },
   "file_extension": ".py",
   "mimetype": "text/x-python",
   "name": "python",
   "nbconvert_exporter": "python",
   "pygments_lexer": "ipython2",
   "version": "2.7.11"
  }
 },
 "nbformat": 4,
 "nbformat_minor": 1
}
