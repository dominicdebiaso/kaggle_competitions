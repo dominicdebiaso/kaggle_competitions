{
 "cells": [
  {
   "cell_type": "code",
   "execution_count": 1,
   "metadata": {
    "collapsed": true
   },
   "outputs": [],
   "source": [
    "import pandas as pd\n",
    "import numpy as np\n",
    "import matplotlib.pyplot as plt\n",
    "import pylab as P\n",
    "from random import sample\n",
    "from sklearn.ensemble import RandomForestClassifier"
   ]
  },
  {
   "cell_type": "code",
   "execution_count": 2,
   "metadata": {
    "collapsed": true
   },
   "outputs": [],
   "source": [
    "%matplotlib inline"
   ]
  },
  {
   "cell_type": "code",
   "execution_count": 3,
   "metadata": {
    "collapsed": true
   },
   "outputs": [],
   "source": [
    "mypath = '/Users/dominicdebiaso/Development/datasets/'\n",
    "df = pd.read_csv(mypath + 'kaggle_titanic_train.csv', header=0)\n",
    "df.columns = map(str.lower, df.columns)"
   ]
  },
  {
   "cell_type": "markdown",
   "metadata": {},
   "source": [
    "####EDA"
   ]
  },
  {
   "cell_type": "code",
   "execution_count": 4,
   "metadata": {
    "collapsed": false
   },
   "outputs": [],
   "source": [
    "## Referencing and Filtering\n",
    "# df.info()\n",
    "# df.describe()\n",
    "# df['Age'][0:10]\n",
    "# df.Age[0:10]\n",
    "# df.Age.mean()\n",
    "# df.sort(['age'])\n",
    "\n",
    "## Subsetting df\n",
    "# df[['sex', 'pclass', 'age']]\n",
    "# df[df.age > 60]\n",
    "\n",
    "## Combine subsetting to filter data\n",
    "# df[df.age > 60][['sex', 'pclass', 'age']]\n",
    "\n",
    "## Determine the values that have nulls\n",
    "# df[df.age.isnull()][['sex', 'pclass', 'age']]\n",
    "\n",
    "## Determine values based on 'sex' and each 'pclass'\n",
    "# Count the number of times 'male' appears in the column\n",
    "# len(df[(df.sex == 'male')])\n",
    "# for i in range(1,4):\n",
    "#     print i, len(df[(df.sex == 'male') & (df.pclass == i)])\n",
    "# Produces same output as above\n",
    "# for i in range(1,4):\n",
    "#     i = len(df[(df.sex == 'male') & (df.pclass == i)])\n",
    "#     print i\n",
    "\n",
    "## Create an 'age' distribution \n",
    "# df.age.hist()\n",
    "# P.show()\n",
    "# df.age.dropna().hist(bins=16, range=(0,80), alpha = 0.5)\n",
    "\n",
    "## Frequency tables\n",
    "# df.groupby(['sex', 'pclass']).size()\n",
    "# df.groupby(['sex', 'pclass']).describe()\n",
    "\n",
    "## Create a random sampling of data\n",
    "# df.ix[np.array(sample(xrange(len(df)),5))]"
   ]
  },
  {
   "cell_type": "markdown",
   "metadata": {},
   "source": [
    "####Data Cleansing"
   ]
  },
  {
   "cell_type": "code",
   "execution_count": 5,
   "metadata": {
    "collapsed": true
   },
   "outputs": [],
   "source": [
    "## Create new 'gender' column and transform to binary values\n",
    "df['gender'] = df['sex'].map(lambda x: x[0].upper())\n",
    "df['gender'] = df['sex'].map({'female': 0, 'male': 1}).astype(int)"
   ]
  },
  {
   "cell_type": "code",
   "execution_count": 6,
   "metadata": {
    "collapsed": true
   },
   "outputs": [],
   "source": [
    "## Preserve the original 'age' column        \n",
    "df['age_fill'] = df['age']\n",
    "\n",
    "## Locate rows with missing values and columns of interest\n",
    "df[df['age'].isnull()][['gender', 'pclass', 'age', 'age_fill']].head()\n",
    "# df.loc[df['age'] == 20, 'sex']\n",
    "\n",
    "## Create an array that contains median age based on gender and pclass to fill in missing values\n",
    "median_ages = np.zeros((2,3))\n",
    "for i in range(0, 2):\n",
    "    for j in range(0, 3):\n",
    "        median_ages[i,j] = df[(df['gender'] == i) & \\\n",
    "                            (df['pclass'] == j+1)]['age'].dropna().median()\n",
    "\n",
    "## Locate based on specified parameters, return the agefill column and replace with median_ages\n",
    "for i in range(0, 2):\n",
    "    for j in range(0, 3):\n",
    "        df.loc[(df['age'].isnull()) & (df['gender'] == i) & (df['pclass'] == j+1),\\\n",
    "               'age_fill'] = median_ages[i,j]\n",
    "\n",
    "## Determine whether Age was originally missing\n",
    "df['age_is_null'] = pd.isnull(df.age).astype(int)"
   ]
  },
  {
   "cell_type": "code",
   "execution_count": 7,
   "metadata": {
    "collapsed": false,
    "scrolled": true
   },
   "outputs": [],
   "source": [
    "## Using fare to fill in gaps on embarked\n",
    "df['embarked'].unique()\n",
    "df['embarked_num'] = df['embarked'].map({'S': 0,'C': 1,'Q': 2}).dropna().astype(int)\n",
    "\n",
    "## Based on 'embarked' location, get the average fare value\n",
    "avgfare_embark = np.zeros((1,3))\n",
    "for i in range(0, 1):\n",
    "    for j in range(0, 3):\n",
    "        avgfare_embark[i,j] = df[(df['embarked_num'] == j)]['fare'].dropna().mean()\n",
    "        \n",
    "df['embarked_fill'] = df['embarked_num']\n",
    "\n",
    "df[df['embarked_fill'].isnull()][['fare', 'embarked', 'embarked_num', 'embarked_fill']].head()\n",
    "\n",
    "df.loc[(df['embarked_num'].isnull()) & (df['fare'] > 50), 'embarked_fill'] = 1\n",
    "\n",
    "# for i in range(0, 1):\n",
    "#     for j in range(0, 3):\n",
    "#         df.loc[(df['embarked_num'].isnull()), 'embarked_fill'] = min(avgfare[j], key=lambda x: abs(x - df['fare']))\n",
    "        \n",
    "# len(df[(df['embarked'] == 'C') & (df['fare'] > 70) & (df['sibsp'] == 0) & (df['parch'] == 0) & (df['pclass'] == 1)])"
   ]
  },
  {
   "cell_type": "markdown",
   "metadata": {},
   "source": [
    "####Feature Engineering"
   ]
  },
  {
   "cell_type": "code",
   "execution_count": 8,
   "metadata": {
    "collapsed": false
   },
   "outputs": [],
   "source": [
    "## Create family unit by coming two variables\n",
    "df['family_size'] = df['sibsp'] + df['parch']\n",
    "\n",
    "## Age and Pclass are predictors of survial so want to amplify those\n",
    "df['age*class'] = df.age_fill * df.pclass"
   ]
  },
  {
   "cell_type": "markdown",
   "metadata": {
    "collapsed": true
   },
   "source": [
    "####Model Prep"
   ]
  },
  {
   "cell_type": "code",
   "execution_count": 9,
   "metadata": {
    "collapsed": false
   },
   "outputs": [],
   "source": [
    "## Need to convert df to array, check to see which are strings\n",
    "df.dtypes[df.dtypes == 'object']\n",
    "df.dtypes[df.dtypes.map(lambda x: x == 'object')]\n",
    "\n",
    "## Drop str columns; 'axis=1' looks by row\n",
    "df_array = df.drop(['passengerid', 'name', 'sex', 'age', 'age_is_null', 'ticket', 'cabin', 'embarked', 'embarked_num'], axis=1)\n",
    "\n",
    "## Convert df to array\n",
    "train_data = df_array.values"
   ]
  },
  {
   "cell_type": "markdown",
   "metadata": {},
   "source": [
    "####Test Dataset Preprocessing"
   ]
  },
  {
   "cell_type": "code",
   "execution_count": 10,
   "metadata": {
    "collapsed": false
   },
   "outputs": [],
   "source": [
    "## Load test datast\n",
    "df_test = pd.read_csv(mypath + 'kaggle_titanic_test.csv', header=0)\n",
    "df_test.columns = map(str.lower, df_test.columns)\n",
    "\n",
    "## Determine null values\n",
    "# df_test.isnull().any()\n",
    "# df_test.isnull().sum()\n",
    "# df_test[df_test['age'].isnull()].head()\n",
    "\n",
    "## Gender\n",
    "df_test['gender'] = df_test['sex'].map(lambda x: x[0].upper())\n",
    "df_test['gender'] = df_test['sex'].map({'female': 0, 'male': 1}).astype(int)\n",
    "\n",
    "## Age\n",
    "df_test['age_fill'] = df_test['age']\n",
    "\n",
    "median_ages_test = np.zeros((2,3))\n",
    "for i in range(0, 2):\n",
    "    for j in range(0, 3):\n",
    "        median_ages_test[i,j] = df_test[(df_test['gender'] == i) & \\\n",
    "                            (df_test['pclass'] == j+1)]['age'].dropna().median()\n",
    "\n",
    "for i in range(0, 2):\n",
    "    for j in range(0, 3):\n",
    "        df_test.loc[(df_test['age'].isnull()) & (df_test['gender'] == i) & (df_test['pclass'] == j+1),\\\n",
    "               'age_fill'] = median_ages[i,j]\n",
    "\n",
    "## Embarked\n",
    "df_test['embarked_fill'] = df_test['embarked']\n",
    "\n",
    "df_test['embarked_fill'] = df_test['embarked'].map({'S': 0,'C': 1,'Q': 2}).dropna().astype(int)\n",
    "\n",
    "## Fare\n",
    "df_test['fare_fill'] = df_test['fare']\n",
    "\n",
    "avgfare = np.zeros((1,3))\n",
    "for i in range(0, 1):\n",
    "    for j in range(0, 3):\n",
    "        avgfare[i,j] = df_test[(df_test['pclass'] == j+1)]['fare_fill'].dropna().mean()\n",
    "\n",
    "for i in range(0, 1):\n",
    "    for j in range(0, 3):\n",
    "        df_test.loc[(df_test['fare_fill'].isnull()) & (df_test['pclass'] == j+1),\\\n",
    "               'fare'] = avgfare[i,j]\n",
    "\n",
    "## Feature Engineering\n",
    "df_test['family_size'] = df_test['sibsp'] + df_test['parch']\n",
    "\n",
    "df_test['age*class'] = df_test.age_fill * df_test.pclass\n",
    "        \n",
    "## Check to see which are strings\n",
    "df_test.dtypes[df_test.dtypes == 'object']\n",
    "df_test.dtypes[df_test.dtypes.map(lambda x: x == 'object')]        \n",
    "\n",
    "## Drop str columns\n",
    "df_test_array = df_test.drop(['passengerid', 'name', 'sex', 'age', 'ticket', 'cabin', 'embarked', 'fare_fill'], axis=1)\n",
    "\n",
    "## Convert df to array\n",
    "test_data = df_test_array.values"
   ]
  },
  {
   "cell_type": "markdown",
   "metadata": {},
   "source": [
    "####Random Forests"
   ]
  },
  {
   "cell_type": "code",
   "execution_count": 11,
   "metadata": {
    "collapsed": false
   },
   "outputs": [],
   "source": [
    "## Initialize random forest object which includes parameters\n",
    "forest = RandomForestClassifier(n_estimators = 500)\n",
    "\n",
    "## Fit training data to survived labels and create trees\n",
    "forest = forest.fit(train_data[0::,1::], train_data[0::,0])\n",
    "\n",
    "## Score trained set\n",
    "# print forest.score(train_data[0::,1::], train_data[0::,0])\n",
    "\n",
    "## Take same tree and run on test data\n",
    "output = forest.predict(test_data).astype(int)"
   ]
  },
  {
   "cell_type": "code",
   "execution_count": 12,
   "metadata": {
    "collapsed": false
   },
   "outputs": [],
   "source": [
    "# Print results output to csv\n",
    "# d = {'Survived': output, 'PassengerId': df_test['passengerid']}\n",
    "output_results = pd.DataFrame(data = {'PassengerId': df_test['passengerid'], 'Survived': output})\n",
    "output_results.to_csv(\"/Users/dominicdebiaso/Desktop/kaggle_titanic_model.csv\", index=False)"
   ]
  },
  {
   "cell_type": "code",
   "execution_count": 13,
   "metadata": {
    "collapsed": true
   },
   "outputs": [],
   "source": [
    "# https://www.kaggle.com/c/titanic/details/getting-started-with-python-ii\n",
    "# https://www.kaggle.com/c/titanic/details/getting-started-with-random-forests"
   ]
  }
 ],
 "metadata": {
  "kernelspec": {
   "display_name": "Python 2",
   "language": "python",
   "name": "python2"
  },
  "language_info": {
   "codemirror_mode": {
    "name": "ipython",
    "version": 2
   },
   "file_extension": ".py",
   "mimetype": "text/x-python",
   "name": "python",
   "nbconvert_exporter": "python",
   "pygments_lexer": "ipython2",
   "version": "2.7.11"
  }
 },
 "nbformat": 4,
 "nbformat_minor": 0
}
