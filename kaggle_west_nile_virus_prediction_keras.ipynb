{
 "cells": [
  {
   "cell_type": "code",
   "execution_count": 2,
   "metadata": {
    "collapsed": false
   },
   "outputs": [
    {
     "name": "stderr",
     "output_type": "stream",
     "text": [
      "Using TensorFlow backend.\n"
     ]
    }
   ],
   "source": [
    "import pandas as pd\n",
    "import numpy as np\n",
    "from sklearn.preprocessing import LabelEncoder, StandardScaler\n",
    "from keras.models import Sequential\n",
    "from keras.layers import Dense, Dropout, BatchNormalization"
   ]
  },
  {
   "cell_type": "code",
   "execution_count": 3,
   "metadata": {
    "collapsed": false
   },
   "outputs": [],
   "source": [
    "df_train = pd.read_csv('/Users/dominicdebiaso/Development/datasets/kaggle_west_nile_train.csv', \n",
    "                       parse_dates=['Date'])\n",
    "df_test = pd.read_csv('/Users/dominicdebiaso/Development/datasets/kaggle_west_nile_test.csv', \n",
    "                      parse_dates=['Date'], index_col='Id')\n",
    "df_weather = pd.read_csv('/Users/dominicdebiaso/Development/datasets/kaggle_west_nile_weather.csv', \n",
    "                         parse_dates=['Date'])"
   ]
  },
  {
   "cell_type": "markdown",
   "metadata": {},
   "source": [
    "### Data Munging"
   ]
  },
  {
   "cell_type": "code",
   "execution_count": 4,
   "metadata": {
    "collapsed": false
   },
   "outputs": [
    {
     "data": {
      "text/plain": [
       "{'NumMosquitos', 'WnvPresent'}"
      ]
     },
     "execution_count": 4,
     "metadata": {},
     "output_type": "execute_result"
    }
   ],
   "source": [
    "## Difference of variables between data\n",
    "set(df_train.columns) - set(df_test.columns)"
   ]
  },
  {
   "cell_type": "code",
   "execution_count": 5,
   "metadata": {
    "collapsed": false,
    "scrolled": false
   },
   "outputs": [],
   "source": [
    "### Munge main dataset\n",
    "## Scaler numerical main data\n",
    "numerical_feats = df_train.select_dtypes(include=[np.number]).drop(['NumMosquitos', 'WnvPresent'], axis=1).columns\n",
    "scaler = StandardScaler()\n",
    "df_train.loc[:, numerical_feats] = scaler.fit_transform(df_train.loc[:, numerical_feats])\n",
    "df_test.loc[:, numerical_feats] = scaler.transform(df_test.loc[:, numerical_feats])\n",
    "\n",
    "## Convert categorical features of main data\n",
    "categorical_feats = df_train.select_dtypes(include=['object']).columns\n",
    "\n",
    "df_train.loc[:, categorical_feats] = df_train.loc[:, categorical_feats].apply(lambda x: pd.factorize(x)[0])\n",
    "df_test.loc[:, categorical_feats] = df_test.loc[:, categorical_feats].apply(lambda x: pd.factorize(x)[0])\n",
    "\n",
    "\n",
    "### Munge Weather data\n",
    "def clean_weather_data(df):\n",
    "    exclude_date = df.drop('Date', 1).columns.tolist()\n",
    "    df[exclude_date] = df[exclude_date].apply(lambda x: pd.to_numeric(x, errors='coerce')).fillna(np.nan)\n",
    "    return df\n",
    "\n",
    "weather = clean_weather_data(df_weather)\n",
    "station_1 = weather.loc[weather['Station'] == 1].drop('Station', 1)\n",
    "station_2 = weather.loc[weather['Station'] == 2].drop('Station', 1)\n",
    "weather = pd.merge(station_1, station_2, on='Date').dropna(axis=1)\n",
    "\n",
    "## Scale numerical weather data\n",
    "numerical_weather_feats = weather.select_dtypes(include=[np.number]).columns\n",
    "scaler = StandardScaler()\n",
    "weather.loc[:, numerical_weather_feats] = scaler.fit_transform(weather.loc[:, numerical_weather_feats])\n",
    "\n",
    "## Join weather data to main data\n",
    "train = pd.merge(df_train, weather, on='Date').drop('NumMosquitos', 1)\n",
    "test = pd.merge(df_test, weather, on='Date')\n",
    "\n",
    "## Final feature engineering\n",
    "def extract_date_features(df):\n",
    "    df['dayofweek'] = df.Date.dt.dayofweek\n",
    "    df['dayofyear'] = df.Date.dt.dayofyear\n",
    "    df['month'] = df.Date.dt.month\n",
    "    df['year'] = df.Date.dt.year\n",
    "    df = df.drop('Date', 1)\n",
    "    return df\n",
    "\n",
    "train = extract_date_features(train)\n",
    "test = extract_date_features(test)"
   ]
  },
  {
   "cell_type": "code",
   "execution_count": 6,
   "metadata": {
    "collapsed": false
   },
   "outputs": [
    {
     "name": "stdout",
     "output_type": "stream",
     "text": [
      "(10506, 31)\n",
      "(116293, 31)\n",
      "(10506,)\n"
     ]
    }
   ],
   "source": [
    "## Split into X and y \n",
    "X_train = train.drop('WnvPresent', 1).as_matrix()\n",
    "X_test = test.as_matrix()\n",
    "y_train = np.ravel(train['WnvPresent'])\n",
    "\n",
    "print(X_train.shape)\n",
    "print(X_test.shape)\n",
    "print(y_train.shape)"
   ]
  },
  {
   "cell_type": "markdown",
   "metadata": {
    "collapsed": true
   },
   "source": [
    "### Model Development"
   ]
  },
  {
   "cell_type": "code",
   "execution_count": 7,
   "metadata": {
    "collapsed": false
   },
   "outputs": [
    {
     "data": {
      "text/plain": [
       "<keras.callbacks.History at 0x117d62f90>"
      ]
     },
     "execution_count": 7,
     "metadata": {},
     "output_type": "execute_result"
    }
   ],
   "source": [
    "# Initialize model\n",
    "# Dummy \n",
    "model = Sequential()\n",
    "model.add(Dense(32, input_dim=31, init='uniform', activation='relu'))\n",
    "model.add(Dropout(0.2))\n",
    "model.add(Dense(16, init='uniform', activation='relu'))\n",
    "model.add(Dropout(0.2))\n",
    "model.add(Dense(1, init='uniform', activation='sigmoid'))\n",
    "\n",
    "model.compile(loss='binary_crossentropy', optimizer='adam')\n",
    "\n",
    "model.fit(X_train, y_train, batch_size=1000, nb_epoch=100, verbose=0)"
   ]
  },
  {
   "cell_type": "code",
   "execution_count": 8,
   "metadata": {
    "collapsed": false
   },
   "outputs": [
    {
     "name": "stdout",
     "output_type": "stream",
     "text": [
      "116192/116293 [============================>.] - ETA: 0s"
     ]
    }
   ],
   "source": [
    "# Predictions\n",
    "y_pred_proba = model.predict_proba(X_test)\n",
    "data = {'Id':df_test.index, 'WnvPresent':y_pred_proba[:,0]}\n",
    "df_nn = pd.DataFrame(data)\n",
    "# df_nn.to_csv('/Users/dominicdebiaso/Desktop/kaggle_west_nile_virus_neural_net.csv', index=False)"
   ]
  },
  {
   "cell_type": "code",
   "execution_count": null,
   "metadata": {
    "collapsed": true
   },
   "outputs": [],
   "source": [
    "# Dummy coding of target variable not needed as desired predicted outcome is of binary response.\n",
    "# Dummifying it would create perfect multicollinearity"
   ]
  }
 ],
 "metadata": {
  "kernelspec": {
   "display_name": "Python 2",
   "language": "python",
   "name": "python2"
  },
  "language_info": {
   "codemirror_mode": {
    "name": "ipython",
    "version": 2
   },
   "file_extension": ".py",
   "mimetype": "text/x-python",
   "name": "python",
   "nbconvert_exporter": "python",
   "pygments_lexer": "ipython2",
   "version": "2.7.11"
  }
 },
 "nbformat": 4,
 "nbformat_minor": 1
}
